{
  "nbformat": 4,
  "nbformat_minor": 0,
  "metadata": {
    "colab": {
      "provenance": [],
      "authorship_tag": "ABX9TyOfgS8moLHBFrVi9VC3z2et",
      "include_colab_link": true
    },
    "kernelspec": {
      "name": "python3",
      "display_name": "Python 3"
    },
    "language_info": {
      "name": "python"
    }
  },
  "cells": [
    {
      "cell_type": "markdown",
      "metadata": {
        "id": "view-in-github",
        "colab_type": "text"
      },
      "source": [
        "<a href=\"https://colab.research.google.com/github/21WH1A0427-Bhaavya/TeamUNO/blob/main/XGBoost%2BRL.ipynb\" target=\"_parent\"><img src=\"https://colab.research.google.com/assets/colab-badge.svg\" alt=\"Open In Colab\"/></a>"
      ]
    },
    {
      "cell_type": "code",
      "execution_count": 115,
      "metadata": {
        "id": "V0UlhrCWpCKU"
      },
      "outputs": [],
      "source": [
        "import numpy as np\n",
        "import pandas as pd\n",
        "from sklearn.preprocessing import LabelEncoder, MinMaxScaler\n",
        "from sklearn.metrics import confusion_matrix, classification_report\n",
        "\n",
        "import xgboost as xgb\n",
        "from sklearn.cluster import KMeans\n",
        "\n",
        "import gym\n",
        "from gym import spaces"
      ]
    },
    {
      "cell_type": "code",
      "source": [
        "df = pd.read_csv(\"/content/enhanced_data.csv\")"
      ],
      "metadata": {
        "colab": {
          "base_uri": "https://localhost:8080/"
        },
        "id": "e5VQhhAFpK0Y",
        "outputId": "28995c9c-73bf-4911-c9cd-0a63b8d39567"
      },
      "execution_count": 116,
      "outputs": [
        {
          "output_type": "stream",
          "name": "stderr",
          "text": [
            "/usr/local/lib/python3.12/dist-packages/jupyter_client/session.py:203: DeprecationWarning: datetime.datetime.utcnow() is deprecated and scheduled for removal in a future version. Use timezone-aware objects to represent datetimes in UTC: datetime.datetime.now(datetime.UTC).\n",
            "  return datetime.utcnow().replace(tzinfo=utc)\n"
          ]
        }
      ]
    },
    {
      "cell_type": "code",
      "source": [
        "df.columns"
      ],
      "metadata": {
        "colab": {
          "base_uri": "https://localhost:8080/"
        },
        "id": "ztvtt_7ktm-O",
        "outputId": "09cc254e-6e8f-48b6-fe51-1303da984e4e"
      },
      "execution_count": 119,
      "outputs": [
        {
          "output_type": "execute_result",
          "data": {
            "text/plain": [
              "Index(['user_id', 'department', 'privilege_level', 'session_id', 'timestamp',\n",
              "       'login_time', 'logout_time', 'session_minutes', 'device_type',\n",
              "       'location_country', 'ip_address', 'remote_ip', 'remote_ip_type',\n",
              "       'port_used', 'files_accessed', 'bytes_downloaded', 'direction',\n",
              "       'app_used', 'file_sensitivity', 'sensitive_command', 'failed_logins',\n",
              "       'mfa_used', 'time_risk', 'file_risk', 'geo_risk', 'app_risk',\n",
              "       'auth_risk', 'risk_score', 'alert_priority', 'anomaly_score',\n",
              "       'is_anomaly', 'anomaly_type'],\n",
              "      dtype='object')"
            ]
          },
          "metadata": {},
          "execution_count": 119
        }
      ]
    },
    {
      "cell_type": "code",
      "source": [
        "df.info()"
      ],
      "metadata": {
        "colab": {
          "base_uri": "https://localhost:8080/"
        },
        "id": "h0_wL47pto43",
        "outputId": "eda4f1fd-c85d-4c37-d8d1-e77675cb9eb2"
      },
      "execution_count": 120,
      "outputs": [
        {
          "output_type": "stream",
          "name": "stdout",
          "text": [
            "<class 'pandas.core.frame.DataFrame'>\n",
            "RangeIndex: 39600 entries, 0 to 39599\n",
            "Data columns (total 32 columns):\n",
            " #   Column             Non-Null Count  Dtype  \n",
            "---  ------             --------------  -----  \n",
            " 0   user_id            39600 non-null  object \n",
            " 1   department         39600 non-null  object \n",
            " 2   privilege_level    39600 non-null  object \n",
            " 3   session_id         39600 non-null  object \n",
            " 4   timestamp          39600 non-null  object \n",
            " 5   login_time         39600 non-null  object \n",
            " 6   logout_time        39600 non-null  object \n",
            " 7   session_minutes    39600 non-null  int64  \n",
            " 8   device_type        39600 non-null  object \n",
            " 9   location_country   39600 non-null  object \n",
            " 10  ip_address         39600 non-null  object \n",
            " 11  remote_ip          39600 non-null  object \n",
            " 12  remote_ip_type     39600 non-null  object \n",
            " 13  port_used          39600 non-null  int64  \n",
            " 14  files_accessed     39600 non-null  int64  \n",
            " 15  bytes_downloaded   39600 non-null  int64  \n",
            " 16  direction          39600 non-null  object \n",
            " 17  app_used           39600 non-null  object \n",
            " 18  file_sensitivity   39600 non-null  object \n",
            " 19  sensitive_command  39600 non-null  int64  \n",
            " 20  failed_logins      39600 non-null  int64  \n",
            " 21  mfa_used           39600 non-null  object \n",
            " 22  time_risk          39600 non-null  int64  \n",
            " 23  file_risk          39600 non-null  float64\n",
            " 24  geo_risk           39600 non-null  int64  \n",
            " 25  app_risk           39600 non-null  int64  \n",
            " 26  auth_risk          39600 non-null  int64  \n",
            " 27  risk_score         39600 non-null  int64  \n",
            " 28  alert_priority     39600 non-null  object \n",
            " 29  anomaly_score      39600 non-null  float64\n",
            " 30  is_anomaly         39600 non-null  int64  \n",
            " 31  anomaly_type       1980 non-null   object \n",
            "dtypes: float64(2), int64(12), object(18)\n",
            "memory usage: 9.7+ MB\n"
          ]
        },
        {
          "output_type": "stream",
          "name": "stderr",
          "text": [
            "/usr/local/lib/python3.12/dist-packages/jupyter_client/session.py:203: DeprecationWarning: datetime.datetime.utcnow() is deprecated and scheduled for removal in a future version. Use timezone-aware objects to represent datetimes in UTC: datetime.datetime.now(datetime.UTC).\n",
            "  return datetime.utcnow().replace(tzinfo=utc)\n"
          ]
        }
      ]
    },
    {
      "cell_type": "code",
      "source": [
        "#Sessions\n",
        "total_anomaly_sessions = (df['is_anomaly'] != 0).sum()\n",
        "print(\"Total anomaly sessions:\", total_anomaly_sessions)\n",
        "\n",
        "#Unique users\n",
        "anomalous_users = df.loc[df['is_anomaly'] != 0, 'user_id'].unique()\n",
        "count_anomalous_users = len(anomalous_users)\n",
        "print(\"Number of unique users with at least one anomaly:\", count_anomalous_users)"
      ],
      "metadata": {
        "colab": {
          "base_uri": "https://localhost:8080/"
        },
        "id": "L3NWHflVpyqY",
        "outputId": "f7da6f22-1eca-4112-9900-98704468b009"
      },
      "execution_count": 121,
      "outputs": [
        {
          "output_type": "stream",
          "name": "stdout",
          "text": [
            "Total anomaly sessions: 1980\n",
            "Number of unique users with at least one anomaly: 120\n"
          ]
        }
      ]
    },
    {
      "cell_type": "code",
      "source": [
        "#Feature Handling\n",
        "df['mfa_used'] = df['mfa_used'].map({'No': 0, 'Yes': 1})\n",
        "df['alert_priority'] = df['alert_priority'].map({'Low': 0, 'Medium': 1, 'High': 2})\n",
        "\n",
        "if df['sensitive_command'].dtype == object:\n",
        "    df['sensitive_command'] = df['sensitive_command'].map({'No': 0, 'Yes': 1})\n",
        "\n",
        "# login_risk\n",
        "df['hour'] = pd.to_datetime(df['login_time'], errors='coerce').dt.hour\n",
        "df['weekday'] = pd.to_datetime(df['login_time'], errors='coerce').dt.weekday\n",
        "df['login_risk'] = ((df['hour'] < 8) | (df['hour'] > 18) | (df['weekday'] >= 5)).astype(int)\n",
        "\n",
        "# device_risk\n",
        "device_col = 'device_type'\n",
        "device_counts = df[device_col].value_counts(normalize=True)\n",
        "df['device_risk'] = 1.0 - df[device_col].map(device_counts).fillna(0.0)\n",
        "if df['device_risk'].max() > 0:\n",
        "    df['device_risk'] = df['device_risk'] / df['device_risk'].max()\n",
        "else:\n",
        "    df['device_risk'] = 0.0\n",
        "\n",
        "# weekend flag\n",
        "df['day_risk'] = df['weekday'].apply(lambda x: 0.5 if x >= 5 else 0.0)\n",
        "\n",
        "#command count\n",
        "if 'command_count' not in df.columns:\n",
        "    df['command_count'] = 0\n",
        "\n",
        "#categorical encoding\n",
        "label_encoders = {}\n",
        "categorical_cols = [\n",
        "    'privilege_level', 'device_type', 'direction', 'app_used',\n",
        "    'file_sensitivity', 'anomaly_type', 'location_country']\n",
        "for col in categorical_cols:\n",
        "    le = LabelEncoder()\n",
        "    df[col + '_encoded'] = le.fit_transform(df[col].astype(str))\n",
        "    label_encoders[col] = le  #for reverse-transform\n",
        "\n",
        "features = [\n",
        "    'privilege_level_encoded', 'session_minutes', 'files_accessed', 'bytes_downloaded',\n",
        "    'device_type_encoded', 'location_country_encoded', 'port_used', 'app_used_encoded',\n",
        "    'file_sensitivity_encoded', 'sensitive_command', 'failed_logins', 'command_count',\n",
        "    'login_risk', 'device_risk', 'day_risk', 'mfa_used', 'direction_encoded',\n",
        "    'time_risk', 'file_risk', 'geo_risk', 'app_risk', 'auth_risk',\n",
        "    'alert_priority', 'anomaly_score', 'anomaly_type_encoded'\n",
        "]"
      ],
      "metadata": {
        "colab": {
          "base_uri": "https://localhost:8080/"
        },
        "id": "UFP9xz-Ev4zC",
        "outputId": "5a08b577-52b3-44e9-b752-256653cac734"
      },
      "execution_count": 122,
      "outputs": [
        {
          "output_type": "stream",
          "name": "stderr",
          "text": [
            "/tmp/ipython-input-4109520425.py:9: UserWarning: Could not infer format, so each element will be parsed individually, falling back to `dateutil`. To ensure parsing is consistent and as-expected, please specify a format.\n",
            "  df['hour'] = pd.to_datetime(df['login_time'], errors='coerce').dt.hour\n",
            "/tmp/ipython-input-4109520425.py:10: UserWarning: Could not infer format, so each element will be parsed individually, falling back to `dateutil`. To ensure parsing is consistent and as-expected, please specify a format.\n",
            "  df['weekday'] = pd.to_datetime(df['login_time'], errors='coerce').dt.weekday\n",
            "/usr/local/lib/python3.12/dist-packages/jupyter_client/session.py:203: DeprecationWarning: datetime.datetime.utcnow() is deprecated and scheduled for removal in a future version. Use timezone-aware objects to represent datetimes in UTC: datetime.datetime.now(datetime.UTC).\n",
            "  return datetime.utcnow().replace(tzinfo=utc)\n"
          ]
        }
      ]
    },
    {
      "cell_type": "code",
      "source": [
        "#Scaling\n",
        "from sklearn.preprocessing import MinMaxScaler\n",
        "scaler = MinMaxScaler()\n",
        "X_scaled = scaler.fit_transform(df[features])\n",
        "y = df['is_anomaly'].astype(int).values\n",
        "\n",
        "model = xgb.XGBClassifier(objective='binary:logistic', n_estimators=50, use_label_encoder=False, eval_metric='logloss')\n",
        "model.fit(X_scaled, y)\n",
        "\n",
        "df['risk_score_xgb'] = model.predict_proba(X_scaled)[:, 1]\n",
        "\n",
        "# top 10 Risky Sessions\n",
        "df[['user_id', 'privilege_level', 'files_accessed', 'direction', 'bytes_downloaded',\n",
        "        'app_used', 'risk_score_xgb', 'anomaly_type']].sort_values('risk_score_xgb', ascending=False).head(10)"
      ],
      "metadata": {
        "colab": {
          "base_uri": "https://localhost:8080/",
          "height": 521
        },
        "id": "OXnb1eu_51PV",
        "outputId": "340927af-ff53-4daf-8b9b-c193808cb8cd"
      },
      "execution_count": 123,
      "outputs": [
        {
          "output_type": "stream",
          "name": "stderr",
          "text": [
            "/usr/local/lib/python3.12/dist-packages/xgboost/training.py:183: UserWarning: [03:39:02] WARNING: /workspace/src/learner.cc:738: \n",
            "Parameters: { \"use_label_encoder\" } are not used.\n",
            "\n",
            "  bst.update(dtrain, iteration=i, fobj=obj)\n",
            "/usr/local/lib/python3.12/dist-packages/jupyter_client/session.py:203: DeprecationWarning: datetime.datetime.utcnow() is deprecated and scheduled for removal in a future version. Use timezone-aware objects to represent datetimes in UTC: datetime.datetime.now(datetime.UTC).\n",
            "  return datetime.utcnow().replace(tzinfo=utc)\n"
          ]
        },
        {
          "output_type": "execute_result",
          "data": {
            "text/plain": [
              "          user_id privilege_level  files_accessed direction  bytes_downloaded  \\\n",
              "409    user_00103            user              11  Download             37158   \n",
              "31024  user_00107            user               6  Download            132740   \n",
              "34972  user_00114            user              11  Internal             55708   \n",
              "2107   user_00005       developer               8  Download            134441   \n",
              "24973  user_00070            user               9  Internal            144785   \n",
              "28216  user_00110            user              13  Download            215182   \n",
              "9723   user_00046            user               9  Download             94849   \n",
              "12994  user_00059            user               9    Upload             75734   \n",
              "18025  user_00110            user               6  Download             88391   \n",
              "31201  user_00029            user              11  Internal             69695   \n",
              "\n",
              "            app_used  risk_score_xgb                anomaly_type  \n",
              "409            excel        0.999381       exfiltration_external  \n",
              "31024          excel        0.999381               failed_logins  \n",
              "34972  file_explorer        0.999379               failed_logins  \n",
              "2107           excel        0.999379             account_sharing  \n",
              "24973          excel        0.999379               mass_download  \n",
              "28216          excel        0.999378       exfiltration_external  \n",
              "9723           excel        0.999378                bot_activity  \n",
              "12994          excel        0.999378  file_sensitivity_violation  \n",
              "18025          excel        0.999378              geo_impossible  \n",
              "31201          excel        0.999378              geo_impossible  "
            ],
            "text/html": [
              "\n",
              "  <div id=\"df-827f9a85-c026-40b2-865e-2adca3a12fdd\" class=\"colab-df-container\">\n",
              "    <div>\n",
              "<style scoped>\n",
              "    .dataframe tbody tr th:only-of-type {\n",
              "        vertical-align: middle;\n",
              "    }\n",
              "\n",
              "    .dataframe tbody tr th {\n",
              "        vertical-align: top;\n",
              "    }\n",
              "\n",
              "    .dataframe thead th {\n",
              "        text-align: right;\n",
              "    }\n",
              "</style>\n",
              "<table border=\"1\" class=\"dataframe\">\n",
              "  <thead>\n",
              "    <tr style=\"text-align: right;\">\n",
              "      <th></th>\n",
              "      <th>user_id</th>\n",
              "      <th>privilege_level</th>\n",
              "      <th>files_accessed</th>\n",
              "      <th>direction</th>\n",
              "      <th>bytes_downloaded</th>\n",
              "      <th>app_used</th>\n",
              "      <th>risk_score_xgb</th>\n",
              "      <th>anomaly_type</th>\n",
              "    </tr>\n",
              "  </thead>\n",
              "  <tbody>\n",
              "    <tr>\n",
              "      <th>409</th>\n",
              "      <td>user_00103</td>\n",
              "      <td>user</td>\n",
              "      <td>11</td>\n",
              "      <td>Download</td>\n",
              "      <td>37158</td>\n",
              "      <td>excel</td>\n",
              "      <td>0.999381</td>\n",
              "      <td>exfiltration_external</td>\n",
              "    </tr>\n",
              "    <tr>\n",
              "      <th>31024</th>\n",
              "      <td>user_00107</td>\n",
              "      <td>user</td>\n",
              "      <td>6</td>\n",
              "      <td>Download</td>\n",
              "      <td>132740</td>\n",
              "      <td>excel</td>\n",
              "      <td>0.999381</td>\n",
              "      <td>failed_logins</td>\n",
              "    </tr>\n",
              "    <tr>\n",
              "      <th>34972</th>\n",
              "      <td>user_00114</td>\n",
              "      <td>user</td>\n",
              "      <td>11</td>\n",
              "      <td>Internal</td>\n",
              "      <td>55708</td>\n",
              "      <td>file_explorer</td>\n",
              "      <td>0.999379</td>\n",
              "      <td>failed_logins</td>\n",
              "    </tr>\n",
              "    <tr>\n",
              "      <th>2107</th>\n",
              "      <td>user_00005</td>\n",
              "      <td>developer</td>\n",
              "      <td>8</td>\n",
              "      <td>Download</td>\n",
              "      <td>134441</td>\n",
              "      <td>excel</td>\n",
              "      <td>0.999379</td>\n",
              "      <td>account_sharing</td>\n",
              "    </tr>\n",
              "    <tr>\n",
              "      <th>24973</th>\n",
              "      <td>user_00070</td>\n",
              "      <td>user</td>\n",
              "      <td>9</td>\n",
              "      <td>Internal</td>\n",
              "      <td>144785</td>\n",
              "      <td>excel</td>\n",
              "      <td>0.999379</td>\n",
              "      <td>mass_download</td>\n",
              "    </tr>\n",
              "    <tr>\n",
              "      <th>28216</th>\n",
              "      <td>user_00110</td>\n",
              "      <td>user</td>\n",
              "      <td>13</td>\n",
              "      <td>Download</td>\n",
              "      <td>215182</td>\n",
              "      <td>excel</td>\n",
              "      <td>0.999378</td>\n",
              "      <td>exfiltration_external</td>\n",
              "    </tr>\n",
              "    <tr>\n",
              "      <th>9723</th>\n",
              "      <td>user_00046</td>\n",
              "      <td>user</td>\n",
              "      <td>9</td>\n",
              "      <td>Download</td>\n",
              "      <td>94849</td>\n",
              "      <td>excel</td>\n",
              "      <td>0.999378</td>\n",
              "      <td>bot_activity</td>\n",
              "    </tr>\n",
              "    <tr>\n",
              "      <th>12994</th>\n",
              "      <td>user_00059</td>\n",
              "      <td>user</td>\n",
              "      <td>9</td>\n",
              "      <td>Upload</td>\n",
              "      <td>75734</td>\n",
              "      <td>excel</td>\n",
              "      <td>0.999378</td>\n",
              "      <td>file_sensitivity_violation</td>\n",
              "    </tr>\n",
              "    <tr>\n",
              "      <th>18025</th>\n",
              "      <td>user_00110</td>\n",
              "      <td>user</td>\n",
              "      <td>6</td>\n",
              "      <td>Download</td>\n",
              "      <td>88391</td>\n",
              "      <td>excel</td>\n",
              "      <td>0.999378</td>\n",
              "      <td>geo_impossible</td>\n",
              "    </tr>\n",
              "    <tr>\n",
              "      <th>31201</th>\n",
              "      <td>user_00029</td>\n",
              "      <td>user</td>\n",
              "      <td>11</td>\n",
              "      <td>Internal</td>\n",
              "      <td>69695</td>\n",
              "      <td>excel</td>\n",
              "      <td>0.999378</td>\n",
              "      <td>geo_impossible</td>\n",
              "    </tr>\n",
              "  </tbody>\n",
              "</table>\n",
              "</div>\n",
              "    <div class=\"colab-df-buttons\">\n",
              "\n",
              "  <div class=\"colab-df-container\">\n",
              "    <button class=\"colab-df-convert\" onclick=\"convertToInteractive('df-827f9a85-c026-40b2-865e-2adca3a12fdd')\"\n",
              "            title=\"Convert this dataframe to an interactive table.\"\n",
              "            style=\"display:none;\">\n",
              "\n",
              "  <svg xmlns=\"http://www.w3.org/2000/svg\" height=\"24px\" viewBox=\"0 -960 960 960\">\n",
              "    <path d=\"M120-120v-720h720v720H120Zm60-500h600v-160H180v160Zm220 220h160v-160H400v160Zm0 220h160v-160H400v160ZM180-400h160v-160H180v160Zm440 0h160v-160H620v160ZM180-180h160v-160H180v160Zm440 0h160v-160H620v160Z\"/>\n",
              "  </svg>\n",
              "    </button>\n",
              "\n",
              "  <style>\n",
              "    .colab-df-container {\n",
              "      display:flex;\n",
              "      gap: 12px;\n",
              "    }\n",
              "\n",
              "    .colab-df-convert {\n",
              "      background-color: #E8F0FE;\n",
              "      border: none;\n",
              "      border-radius: 50%;\n",
              "      cursor: pointer;\n",
              "      display: none;\n",
              "      fill: #1967D2;\n",
              "      height: 32px;\n",
              "      padding: 0 0 0 0;\n",
              "      width: 32px;\n",
              "    }\n",
              "\n",
              "    .colab-df-convert:hover {\n",
              "      background-color: #E2EBFA;\n",
              "      box-shadow: 0px 1px 2px rgba(60, 64, 67, 0.3), 0px 1px 3px 1px rgba(60, 64, 67, 0.15);\n",
              "      fill: #174EA6;\n",
              "    }\n",
              "\n",
              "    .colab-df-buttons div {\n",
              "      margin-bottom: 4px;\n",
              "    }\n",
              "\n",
              "    [theme=dark] .colab-df-convert {\n",
              "      background-color: #3B4455;\n",
              "      fill: #D2E3FC;\n",
              "    }\n",
              "\n",
              "    [theme=dark] .colab-df-convert:hover {\n",
              "      background-color: #434B5C;\n",
              "      box-shadow: 0px 1px 3px 1px rgba(0, 0, 0, 0.15);\n",
              "      filter: drop-shadow(0px 1px 2px rgba(0, 0, 0, 0.3));\n",
              "      fill: #FFFFFF;\n",
              "    }\n",
              "  </style>\n",
              "\n",
              "    <script>\n",
              "      const buttonEl =\n",
              "        document.querySelector('#df-827f9a85-c026-40b2-865e-2adca3a12fdd button.colab-df-convert');\n",
              "      buttonEl.style.display =\n",
              "        google.colab.kernel.accessAllowed ? 'block' : 'none';\n",
              "\n",
              "      async function convertToInteractive(key) {\n",
              "        const element = document.querySelector('#df-827f9a85-c026-40b2-865e-2adca3a12fdd');\n",
              "        const dataTable =\n",
              "          await google.colab.kernel.invokeFunction('convertToInteractive',\n",
              "                                                    [key], {});\n",
              "        if (!dataTable) return;\n",
              "\n",
              "        const docLinkHtml = 'Like what you see? Visit the ' +\n",
              "          '<a target=\"_blank\" href=https://colab.research.google.com/notebooks/data_table.ipynb>data table notebook</a>'\n",
              "          + ' to learn more about interactive tables.';\n",
              "        element.innerHTML = '';\n",
              "        dataTable['output_type'] = 'display_data';\n",
              "        await google.colab.output.renderOutput(dataTable, element);\n",
              "        const docLink = document.createElement('div');\n",
              "        docLink.innerHTML = docLinkHtml;\n",
              "        element.appendChild(docLink);\n",
              "      }\n",
              "    </script>\n",
              "  </div>\n",
              "\n",
              "\n",
              "    <div id=\"df-937d91c5-06b7-43e1-8c38-fcfd73a27621\">\n",
              "      <button class=\"colab-df-quickchart\" onclick=\"quickchart('df-937d91c5-06b7-43e1-8c38-fcfd73a27621')\"\n",
              "                title=\"Suggest charts\"\n",
              "                style=\"display:none;\">\n",
              "\n",
              "<svg xmlns=\"http://www.w3.org/2000/svg\" height=\"24px\"viewBox=\"0 0 24 24\"\n",
              "     width=\"24px\">\n",
              "    <g>\n",
              "        <path d=\"M19 3H5c-1.1 0-2 .9-2 2v14c0 1.1.9 2 2 2h14c1.1 0 2-.9 2-2V5c0-1.1-.9-2-2-2zM9 17H7v-7h2v7zm4 0h-2V7h2v10zm4 0h-2v-4h2v4z\"/>\n",
              "    </g>\n",
              "</svg>\n",
              "      </button>\n",
              "\n",
              "<style>\n",
              "  .colab-df-quickchart {\n",
              "      --bg-color: #E8F0FE;\n",
              "      --fill-color: #1967D2;\n",
              "      --hover-bg-color: #E2EBFA;\n",
              "      --hover-fill-color: #174EA6;\n",
              "      --disabled-fill-color: #AAA;\n",
              "      --disabled-bg-color: #DDD;\n",
              "  }\n",
              "\n",
              "  [theme=dark] .colab-df-quickchart {\n",
              "      --bg-color: #3B4455;\n",
              "      --fill-color: #D2E3FC;\n",
              "      --hover-bg-color: #434B5C;\n",
              "      --hover-fill-color: #FFFFFF;\n",
              "      --disabled-bg-color: #3B4455;\n",
              "      --disabled-fill-color: #666;\n",
              "  }\n",
              "\n",
              "  .colab-df-quickchart {\n",
              "    background-color: var(--bg-color);\n",
              "    border: none;\n",
              "    border-radius: 50%;\n",
              "    cursor: pointer;\n",
              "    display: none;\n",
              "    fill: var(--fill-color);\n",
              "    height: 32px;\n",
              "    padding: 0;\n",
              "    width: 32px;\n",
              "  }\n",
              "\n",
              "  .colab-df-quickchart:hover {\n",
              "    background-color: var(--hover-bg-color);\n",
              "    box-shadow: 0 1px 2px rgba(60, 64, 67, 0.3), 0 1px 3px 1px rgba(60, 64, 67, 0.15);\n",
              "    fill: var(--button-hover-fill-color);\n",
              "  }\n",
              "\n",
              "  .colab-df-quickchart-complete:disabled,\n",
              "  .colab-df-quickchart-complete:disabled:hover {\n",
              "    background-color: var(--disabled-bg-color);\n",
              "    fill: var(--disabled-fill-color);\n",
              "    box-shadow: none;\n",
              "  }\n",
              "\n",
              "  .colab-df-spinner {\n",
              "    border: 2px solid var(--fill-color);\n",
              "    border-color: transparent;\n",
              "    border-bottom-color: var(--fill-color);\n",
              "    animation:\n",
              "      spin 1s steps(1) infinite;\n",
              "  }\n",
              "\n",
              "  @keyframes spin {\n",
              "    0% {\n",
              "      border-color: transparent;\n",
              "      border-bottom-color: var(--fill-color);\n",
              "      border-left-color: var(--fill-color);\n",
              "    }\n",
              "    20% {\n",
              "      border-color: transparent;\n",
              "      border-left-color: var(--fill-color);\n",
              "      border-top-color: var(--fill-color);\n",
              "    }\n",
              "    30% {\n",
              "      border-color: transparent;\n",
              "      border-left-color: var(--fill-color);\n",
              "      border-top-color: var(--fill-color);\n",
              "      border-right-color: var(--fill-color);\n",
              "    }\n",
              "    40% {\n",
              "      border-color: transparent;\n",
              "      border-right-color: var(--fill-color);\n",
              "      border-top-color: var(--fill-color);\n",
              "    }\n",
              "    60% {\n",
              "      border-color: transparent;\n",
              "      border-right-color: var(--fill-color);\n",
              "    }\n",
              "    80% {\n",
              "      border-color: transparent;\n",
              "      border-right-color: var(--fill-color);\n",
              "      border-bottom-color: var(--fill-color);\n",
              "    }\n",
              "    90% {\n",
              "      border-color: transparent;\n",
              "      border-bottom-color: var(--fill-color);\n",
              "    }\n",
              "  }\n",
              "</style>\n",
              "\n",
              "      <script>\n",
              "        async function quickchart(key) {\n",
              "          const quickchartButtonEl =\n",
              "            document.querySelector('#' + key + ' button');\n",
              "          quickchartButtonEl.disabled = true;  // To prevent multiple clicks.\n",
              "          quickchartButtonEl.classList.add('colab-df-spinner');\n",
              "          try {\n",
              "            const charts = await google.colab.kernel.invokeFunction(\n",
              "                'suggestCharts', [key], {});\n",
              "          } catch (error) {\n",
              "            console.error('Error during call to suggestCharts:', error);\n",
              "          }\n",
              "          quickchartButtonEl.classList.remove('colab-df-spinner');\n",
              "          quickchartButtonEl.classList.add('colab-df-quickchart-complete');\n",
              "        }\n",
              "        (() => {\n",
              "          let quickchartButtonEl =\n",
              "            document.querySelector('#df-937d91c5-06b7-43e1-8c38-fcfd73a27621 button');\n",
              "          quickchartButtonEl.style.display =\n",
              "            google.colab.kernel.accessAllowed ? 'block' : 'none';\n",
              "        })();\n",
              "      </script>\n",
              "    </div>\n",
              "\n",
              "    </div>\n",
              "  </div>\n"
            ],
            "application/vnd.google.colaboratory.intrinsic+json": {
              "type": "dataframe",
              "summary": "{\n  \"name\": \"        'app_used', 'risk_score_xgb', 'anomaly_type']]\",\n  \"rows\": 10,\n  \"fields\": [\n    {\n      \"column\": \"user_id\",\n      \"properties\": {\n        \"dtype\": \"string\",\n        \"num_unique_values\": 9,\n        \"samples\": [\n          \"user_00059\",\n          \"user_00107\",\n          \"user_00110\"\n        ],\n        \"semantic_type\": \"\",\n        \"description\": \"\"\n      }\n    },\n    {\n      \"column\": \"privilege_level\",\n      \"properties\": {\n        \"dtype\": \"category\",\n        \"num_unique_values\": 2,\n        \"samples\": [\n          \"developer\",\n          \"user\"\n        ],\n        \"semantic_type\": \"\",\n        \"description\": \"\"\n      }\n    },\n    {\n      \"column\": \"files_accessed\",\n      \"properties\": {\n        \"dtype\": \"number\",\n        \"std\": 2,\n        \"min\": 6,\n        \"max\": 13,\n        \"num_unique_values\": 5,\n        \"samples\": [\n          6,\n          13\n        ],\n        \"semantic_type\": \"\",\n        \"description\": \"\"\n      }\n    },\n    {\n      \"column\": \"direction\",\n      \"properties\": {\n        \"dtype\": \"category\",\n        \"num_unique_values\": 3,\n        \"samples\": [\n          \"Download\",\n          \"Internal\"\n        ],\n        \"semantic_type\": \"\",\n        \"description\": \"\"\n      }\n    },\n    {\n      \"column\": \"bytes_downloaded\",\n      \"properties\": {\n        \"dtype\": \"number\",\n        \"std\": 52570,\n        \"min\": 37158,\n        \"max\": 215182,\n        \"num_unique_values\": 10,\n        \"samples\": [\n          88391,\n          132740\n        ],\n        \"semantic_type\": \"\",\n        \"description\": \"\"\n      }\n    },\n    {\n      \"column\": \"app_used\",\n      \"properties\": {\n        \"dtype\": \"category\",\n        \"num_unique_values\": 2,\n        \"samples\": [\n          \"file_explorer\",\n          \"excel\"\n        ],\n        \"semantic_type\": \"\",\n        \"description\": \"\"\n      }\n    },\n    {\n      \"column\": \"risk_score_xgb\",\n      \"properties\": {\n        \"dtype\": \"float32\",\n        \"num_unique_values\": 6,\n        \"samples\": [\n          0.9993809461593628,\n          0.9993792772293091\n        ],\n        \"semantic_type\": \"\",\n        \"description\": \"\"\n      }\n    },\n    {\n      \"column\": \"anomaly_type\",\n      \"properties\": {\n        \"dtype\": \"string\",\n        \"num_unique_values\": 7,\n        \"samples\": [\n          \"exfiltration_external\",\n          \"failed_logins\"\n        ],\n        \"semantic_type\": \"\",\n        \"description\": \"\"\n      }\n    }\n  ]\n}"
            }
          },
          "metadata": {},
          "execution_count": 123
        },
        {
          "output_type": "stream",
          "name": "stderr",
          "text": [
            "/usr/local/lib/python3.12/dist-packages/jupyter_client/session.py:203: DeprecationWarning: datetime.datetime.utcnow() is deprecated and scheduled for removal in a future version. Use timezone-aware objects to represent datetimes in UTC: datetime.datetime.now(datetime.UTC).\n",
            "  return datetime.utcnow().replace(tzinfo=utc)\n"
          ]
        }
      ]
    },
    {
      "cell_type": "code",
      "source": [
        "#predictions on class labels\n",
        "xgb_preds = model.predict(X_scaled)\n",
        "\n",
        "#using your true labels\n",
        "print(\"XGBoost Confusion Matrix on entire Data\")\n",
        "print(confusion_matrix(y, xgb_preds))\n",
        "print(\"Classification Report:\")\n",
        "print(classification_report(y, xgb_preds))"
      ],
      "metadata": {
        "colab": {
          "base_uri": "https://localhost:8080/"
        },
        "id": "fSuBlw1dwAaC",
        "outputId": "2a8bab7a-a9f2-4dcd-f60e-b54b51931f46"
      },
      "execution_count": 124,
      "outputs": [
        {
          "output_type": "stream",
          "name": "stdout",
          "text": [
            "XGBoost Confusion Matrix on entire Data\n",
            "[[37620     0]\n",
            " [    0  1980]]\n",
            "Classification Report:\n",
            "              precision    recall  f1-score   support\n",
            "\n",
            "           0       1.00      1.00      1.00     37620\n",
            "           1       1.00      1.00      1.00      1980\n",
            "\n",
            "    accuracy                           1.00     39600\n",
            "   macro avg       1.00      1.00      1.00     39600\n",
            "weighted avg       1.00      1.00      1.00     39600\n",
            "\n"
          ]
        },
        {
          "output_type": "stream",
          "name": "stderr",
          "text": [
            "/usr/local/lib/python3.12/dist-packages/jupyter_client/session.py:203: DeprecationWarning: datetime.datetime.utcnow() is deprecated and scheduled for removal in a future version. Use timezone-aware objects to represent datetimes in UTC: datetime.datetime.now(datetime.UTC).\n",
            "  return datetime.utcnow().replace(tzinfo=utc)\n"
          ]
        }
      ]
    },
    {
      "cell_type": "code",
      "source": [
        "print(\"Confusion Matrix labels=[1,0]:\")\n",
        "print(confusion_matrix(y, xgb_preds, labels=[1,0]))"
      ],
      "metadata": {
        "colab": {
          "base_uri": "https://localhost:8080/"
        },
        "id": "KrURLpxpxiqm",
        "outputId": "4e176815-831f-45bb-a2b9-ef82176b7311"
      },
      "execution_count": 125,
      "outputs": [
        {
          "output_type": "stream",
          "name": "stdout",
          "text": [
            "Confusion Matrix labels=[1,0]:\n",
            "[[ 1980     0]\n",
            " [    0 37620]]\n"
          ]
        },
        {
          "output_type": "stream",
          "name": "stderr",
          "text": [
            "/usr/local/lib/python3.12/dist-packages/jupyter_client/session.py:203: DeprecationWarning: datetime.datetime.utcnow() is deprecated and scheduled for removal in a future version. Use timezone-aware objects to represent datetimes in UTC: datetime.datetime.now(datetime.UTC).\n",
            "  return datetime.utcnow().replace(tzinfo=utc)\n"
          ]
        }
      ]
    },
    {
      "cell_type": "code",
      "source": [
        "#high risk as top 10% risk_score_xgb\n",
        "risk_thresh = df['risk_score_xgb'].quantile(0.9)\n",
        "df['is_high_risk'] = (df['risk_score_xgb'] >= risk_thresh).astype(int)\n",
        "\n",
        "#aggregation of app usage by all users and risky users\n",
        "app_usage = df.groupby('app_used').agg(total_uses=('user_id', 'count'), high_risk_uses=('is_high_risk', 'sum')).reset_index()"
      ],
      "metadata": {
        "colab": {
          "base_uri": "https://localhost:8080/"
        },
        "id": "hxY4UdjM2jRu",
        "outputId": "d51d1201-94f3-4822-f231-b2f4b2ba21c5"
      },
      "execution_count": 126,
      "outputs": [
        {
          "output_type": "stream",
          "name": "stderr",
          "text": [
            "/usr/local/lib/python3.12/dist-packages/jupyter_client/session.py:203: DeprecationWarning: datetime.datetime.utcnow() is deprecated and scheduled for removal in a future version. Use timezone-aware objects to represent datetimes in UTC: datetime.datetime.now(datetime.UTC).\n",
            "  return datetime.utcnow().replace(tzinfo=utc)\n"
          ]
        }
      ]
    },
    {
      "cell_type": "code",
      "source": [
        "#scaling\n",
        "scaler_apps = MinMaxScaler()\n",
        "metrics_scaled = scaler_apps.fit_transform(app_usage[['total_uses', 'high_risk_uses']])\n",
        "\n",
        "#clustering\n",
        "kmeans = KMeans(n_clusters=2, random_state=42).fit(metrics_scaled)\n",
        "app_usage['cluster'] = kmeans.labels_\n",
        "\n",
        "#highest avg high-risk-users\n",
        "red_cluster = app_usage.groupby('cluster')['high_risk_uses'].mean().idxmax()\n",
        "\n",
        "plt.figure(figsize=(10, 6))\n",
        "for i, row in app_usage.iterrows():\n",
        "    color = 'red' if row['cluster'] == red_cluster else 'lightblue'\n",
        "    plt.scatter(row['total_uses'], row['high_risk_uses'], s=150, color=color)\n",
        "    plt.text(row['total_uses'], row['high_risk_uses'], row['app_used'], fontsize=10, ha='left', va='bottom')\n",
        "\n",
        "plt.xlabel('Total App Uses')\n",
        "plt.ylabel('High Risk User Uses')\n",
        "plt.title('App Usage')\n",
        "plt.grid(True)\n",
        "plt.show()"
      ],
      "metadata": {
        "colab": {
          "base_uri": "https://localhost:8080/",
          "height": 619
        },
        "id": "-UAOT6oH2eOD",
        "outputId": "ab9f3341-81a1-48fe-aac1-6a9b0a60d98f"
      },
      "execution_count": 127,
      "outputs": [
        {
          "output_type": "display_data",
          "data": {
            "text/plain": [
              "<Figure size 1000x600 with 1 Axes>"
            ],
            "image/png": "[encoded data removed]"
          },
          "metadata": {}
        },
        {
          "output_type": "stream",
          "name": "stderr",
          "text": [
            "/usr/local/lib/python3.12/dist-packages/jupyter_client/session.py:203: DeprecationWarning: datetime.datetime.utcnow() is deprecated and scheduled for removal in a future version. Use timezone-aware objects to represent datetimes in UTC: datetime.datetime.now(datetime.UTC).\n",
            "  return datetime.utcnow().replace(tzinfo=utc)\n"
          ]
        }
      ]
    },
    {
      "cell_type": "code",
      "source": [
        "class InsiderThreatEnv(gym.Env):\n",
        "    def __init__(self, X, y):\n",
        "        super().__init__()\n",
        "        self.X = X\n",
        "        self.y = y\n",
        "        self.n_samples = X.shape[0]\n",
        "        self.current = 0\n",
        "        self.observation_space = spaces.Box(low=0, high=1, shape=(X.shape[1],), dtype=np.float32)\n",
        "        self.action_space = spaces.Discrete(2)\n",
        "\n",
        "    def reset(self):\n",
        "        self.current = 0\n",
        "        return self.X[self.current]\n",
        "\n",
        "    def step(self, action):\n",
        "        label = self.y[self.current]\n",
        "        if action == 1 and label == 1: #TP\n",
        "            reward = 2\n",
        "        elif action == 1 and label == 0: #FP\n",
        "            reward = -1\n",
        "        elif action == 0 and label == 1: #FN\n",
        "            reward = -3\n",
        "        else:   #TN\n",
        "            reward = 1\n",
        "        self.current += 1\n",
        "        done = self.current >= self.n_samples\n",
        "        obs = self.X[self.current] if not done else np.zeros_like(self.X[0])\n",
        "        return obs, reward, done, {}\n",
        "\n",
        "    def render(self, mode='human'):\n",
        "        pass\n",
        "\n",
        "#Q-learning Agent\n",
        "class QLearningAgent:\n",
        "    def __init__(self, state_size, n_actions):\n",
        "        self.q_table = np.zeros((10000, n_actions))\n",
        "        self.n_actions = n_actions\n",
        "        self.lr = 0.1\n",
        "        self.gamma = 0.9\n",
        "        self.epsilon = 0.2\n",
        "\n",
        "    def get_state_idx(self, state):\n",
        "      rounded = tuple(np.round(state[-4:] * 10).astype(int))\n",
        "      idx = abs(hash(rounded)) % self.q_table.shape[0]\n",
        "      return idx\n",
        "\n",
        "    def select_action(self, state):\n",
        "        if np.random.rand() < self.epsilon:\n",
        "            return np.random.randint(self.n_actions)\n",
        "        idx = self.get_state_idx(state)\n",
        "        return np.argmax(self.q_table[idx])\n",
        "\n",
        "    def update(self, state, action, reward, next_state):\n",
        "        idx = self.get_state_idx(state)\n",
        "        next_idx = self.get_state_idx(next_state)\n",
        "        best_next = np.max(self.q_table[next_idx])\n",
        "        self.q_table[idx, action] += self.lr * (reward + self.gamma * best_next - self.q_table[idx, action])\n"
      ],
      "metadata": {
        "id": "7WP2zRA-3JlZ"
      },
      "execution_count": 129,
      "outputs": []
    },
    {
      "cell_type": "code",
      "source": [
        "env = InsiderThreatEnv(X_scaled, y)\n",
        "agent = QLearningAgent(state_size=X_scaled.shape[1], n_actions=2)\n",
        "n_episodes = 30"
      ],
      "metadata": {
        "id": "56bYOOzg6uCS"
      },
      "execution_count": 130,
      "outputs": []
    },
    {
      "cell_type": "code",
      "source": [
        "for episode in range(n_episodes):\n",
        "    state = env.reset()\n",
        "    total_reward = 0\n",
        "    done = False\n",
        "    while not done:\n",
        "        action = agent.select_action(state)\n",
        "        next_state, reward, done, _ = env.step(action)\n",
        "        agent.update(state, action, reward, next_state)\n",
        "        state = next_state\n",
        "        total_reward += reward\n",
        "    print(f\"Episode {episode+1}, Total Reward: {total_reward}\")"
      ],
      "metadata": {
        "colab": {
          "base_uri": "https://localhost:8080/"
        },
        "id": "PZTIbEhE61ex",
        "outputId": "7c6952c4-4104-40cc-a1db-8f70fea1c353"
      },
      "execution_count": 131,
      "outputs": [
        {
          "output_type": "stream",
          "name": "stdout",
          "text": [
            "Episode 1, Total Reward: 30084\n",
            "Episode 2, Total Reward: 31483\n",
            "Episode 3, Total Reward: 31943\n",
            "Episode 4, Total Reward: 32173\n",
            "Episode 5, Total Reward: 32505\n",
            "Episode 6, Total Reward: 32655\n",
            "Episode 7, Total Reward: 32371\n",
            "Episode 8, Total Reward: 32383\n",
            "Episode 9, Total Reward: 32810\n",
            "Episode 10, Total Reward: 32597\n",
            "Episode 11, Total Reward: 32621\n",
            "Episode 12, Total Reward: 32999\n",
            "Episode 13, Total Reward: 32289\n",
            "Episode 14, Total Reward: 32471\n",
            "Episode 15, Total Reward: 32773\n",
            "Episode 16, Total Reward: 33112\n",
            "Episode 17, Total Reward: 32546\n",
            "Episode 18, Total Reward: 32840\n",
            "Episode 19, Total Reward: 32975\n",
            "Episode 20, Total Reward: 32801\n",
            "Episode 21, Total Reward: 32861\n",
            "Episode 22, Total Reward: 32945\n",
            "Episode 23, Total Reward: 32900\n",
            "Episode 24, Total Reward: 32910\n",
            "Episode 25, Total Reward: 32865\n",
            "Episode 26, Total Reward: 32573\n",
            "Episode 27, Total Reward: 32776\n",
            "Episode 28, Total Reward: 33168\n",
            "Episode 29, Total Reward: 32717\n",
            "Episode 30, Total Reward: 32913\n"
          ]
        }
      ]
    },
    {
      "cell_type": "code",
      "source": [
        "# Predict with the trained policy\n",
        "rl_preds = [agent.select_action(s) for s in X_scaled]\n",
        "print(\"RL Q-Learning Confusion Matrix\")\n",
        "print(confusion_matrix(y, rl_preds, labels=[1,0]))\n",
        "print(\"Classification Report:\")\n",
        "print(classification_report(y, rl_preds))"
      ],
      "metadata": {
        "colab": {
          "base_uri": "https://localhost:8080/"
        },
        "id": "j4eaKtli620z",
        "outputId": "b40ee4b2-7f94-454d-d942-0b638f3ec19a"
      },
      "execution_count": 132,
      "outputs": [
        {
          "output_type": "stream",
          "name": "stdout",
          "text": [
            "RL Q-Learning Confusion Matrix\n",
            "[[ 1731   249]\n",
            " [ 3764 33856]]\n",
            "Classification Report:\n",
            "              precision    recall  f1-score   support\n",
            "\n",
            "           0       0.99      0.90      0.94     37620\n",
            "           1       0.32      0.87      0.46      1980\n",
            "\n",
            "    accuracy                           0.90     39600\n",
            "   macro avg       0.65      0.89      0.70     39600\n",
            "weighted avg       0.96      0.90      0.92     39600\n",
            "\n"
          ]
        },
        {
          "output_type": "stream",
          "name": "stderr",
          "text": [
            "/usr/local/lib/python3.12/dist-packages/jupyter_client/session.py:203: DeprecationWarning: datetime.datetime.utcnow() is deprecated and scheduled for removal in a future version. Use timezone-aware objects to represent datetimes in UTC: datetime.datetime.now(datetime.UTC).\n",
            "  return datetime.utcnow().replace(tzinfo=utc)\n"
          ]
        }
      ]
    },
    {
      "cell_type": "code",
      "source": [],
      "metadata": {
        "id": "xa97juI462hZ"
      },
      "execution_count": null,
      "outputs": []
    },
    {
      "cell_type": "code",
      "source": [],
      "metadata": {
        "id": "S9OC3_KS7DZA"
      },
      "execution_count": null,
      "outputs": []
    },
    {
      "cell_type": "code",
      "source": [
        "class InsiderThreatEnv(gym.Env):\n",
        "    def __init__(self, X, y):\n",
        "        super().__init__()\n",
        "        self.X = X\n",
        "        self.y = y\n",
        "        self.n_samples = X.shape[0]\n",
        "        self.current = 0\n",
        "        self.observation_space = spaces.Box(low=0, high=1, shape=(X.shape[1],), dtype=np.float32)\n",
        "        self.action_space = spaces.Discrete(2)\n",
        "\n",
        "    def reset(self):\n",
        "        self.current = 0\n",
        "        return self.X[self.current]\n",
        "\n",
        "    def step(self, action):\n",
        "        label = self.y[self.current]\n",
        "        if action == 1 and label == 1: #TP\n",
        "            reward = 2\n",
        "        elif action == 1 and label == 0: #FP\n",
        "            reward = -1\n",
        "        elif action == 0 and label == 1: #FN\n",
        "            reward = -3\n",
        "        else:  #TN\n",
        "            reward = 1\n",
        "        self.current += 1\n",
        "        done = self.current >= self.n_samples\n",
        "        obs = self.X[self.current] if not done else np.zeros_like(self.X[0])\n",
        "        return obs, reward, done, {}\n",
        "\n",
        "    def render(self, mode='human'):\n",
        "        pass\n",
        "\n",
        "#environment\n",
        "env = InsiderThreatEnv(X_scaled, y.values)"
      ],
      "metadata": {
        "id": "8UiUo9K4waPe"
      },
      "execution_count": 95,
      "outputs": []
    },
    {
      "cell_type": "code",
      "source": [
        "class QLearningAgent:\n",
        "    def __init__(self, state_size, n_actions):\n",
        "        self.q_table = np.zeros((10000, n_actions))  #discretized state-action table\n",
        "        self.n_actions = n_actions\n",
        "        self.lr = 0.1\n",
        "        self.gamma = 0.9\n",
        "        self.epsilon = 0.2\n",
        "\n",
        "    def get_state_idx(self, state):\n",
        "        rounded = np.round(state * 10).astype(int)\n",
        "        idx = int(''.join(map(str, rounded[-4:])))  #last 4 features for indexing\n",
        "        return min(idx, self.q_table.shape[0] - 1)\n",
        "\n",
        "    def select_action(self, state):\n",
        "        if np.random.rand() < self.epsilon:\n",
        "            return np.random.randint(self.n_actions)\n",
        "        idx = self.get_state_idx(state)\n",
        "        return np.argmax(self.q_table[idx])\n",
        "\n",
        "    def update(self, state, action, reward, next_state):\n",
        "        idx = self.get_state_idx(state)\n",
        "        next_idx = self.get_state_idx(next_state)\n",
        "        best_next = np.max(self.q_table[next_idx])\n",
        "        self.q_table[idx, action] += self.lr * (reward + self.gamma * best_next - self.q_table[idx, action])\n"
      ],
      "metadata": {
        "id": "U_sdd4lFweC5"
      },
      "execution_count": 96,
      "outputs": []
    },
    {
      "cell_type": "code",
      "source": [
        "agent = QLearningAgent(state_size=X_scaled.shape[1], n_actions=2)\n",
        "n_episodes = 30\n",
        "for episode in range(n_episodes):\n",
        "    state = env.reset()\n",
        "    total_reward = 0\n",
        "    done = False\n",
        "    while not done:\n",
        "        action = agent.select_action(state)\n",
        "        next_state, reward, done, _ = env.step(action)\n",
        "        agent.update(state, action, reward, next_state)\n",
        "        state = next_state\n",
        "        total_reward += reward\n",
        "    print(f\"Episode {episode+1}, Total Reward: {total_reward}\")"
      ],
      "metadata": {
        "colab": {
          "base_uri": "https://localhost:8080/",
          "height": 391
        },
        "id": "OAupCnrtzBes",
        "outputId": "8a249c7b-a58c-4739-f67f-bcfe70240a38"
      },
      "execution_count": 98,
      "outputs": [
        {
          "output_type": "stream",
          "name": "stderr",
          "text": [
            "/tmp/ipython-input-3953088305.py:10: RuntimeWarning: invalid value encountered in cast\n",
            "  rounded = np.round(state * 10).astype(int)\n"
          ]
        },
        {
          "output_type": "error",
          "ename": "ValueError",
          "evalue": "invalid literal for int() with base 10: '0-922337203685477580857'",
          "traceback": [
            "\u001b[0;31m---------------------------------------------------------------------------\u001b[0m",
            "\u001b[0;31mValueError\u001b[0m                                Traceback (most recent call last)",
            "\u001b[0;32m/tmp/ipython-input-3292140433.py\u001b[0m in \u001b[0;36m<cell line: 0>\u001b[0;34m()\u001b[0m\n\u001b[1;32m      8\u001b[0m         \u001b[0maction\u001b[0m \u001b[0;34m=\u001b[0m \u001b[0magent\u001b[0m\u001b[0;34m.\u001b[0m\u001b[0mselect_action\u001b[0m\u001b[0;34m(\u001b[0m\u001b[0mstate\u001b[0m\u001b[0;34m)\u001b[0m\u001b[0;34m\u001b[0m\u001b[0;34m\u001b[0m\u001b[0m\n\u001b[1;32m      9\u001b[0m         \u001b[0mnext_state\u001b[0m\u001b[0;34m,\u001b[0m \u001b[0mreward\u001b[0m\u001b[0;34m,\u001b[0m \u001b[0mdone\u001b[0m\u001b[0;34m,\u001b[0m \u001b[0m_\u001b[0m \u001b[0;34m=\u001b[0m \u001b[0menv\u001b[0m\u001b[0;34m.\u001b[0m\u001b[0mstep\u001b[0m\u001b[0;34m(\u001b[0m\u001b[0maction\u001b[0m\u001b[0;34m)\u001b[0m\u001b[0;34m\u001b[0m\u001b[0;34m\u001b[0m\u001b[0m\n\u001b[0;32m---> 10\u001b[0;31m         \u001b[0magent\u001b[0m\u001b[0;34m.\u001b[0m\u001b[0mupdate\u001b[0m\u001b[0;34m(\u001b[0m\u001b[0mstate\u001b[0m\u001b[0;34m,\u001b[0m \u001b[0maction\u001b[0m\u001b[0;34m,\u001b[0m \u001b[0mreward\u001b[0m\u001b[0;34m,\u001b[0m \u001b[0mnext_state\u001b[0m\u001b[0;34m)\u001b[0m\u001b[0;34m\u001b[0m\u001b[0;34m\u001b[0m\u001b[0m\n\u001b[0m\u001b[1;32m     11\u001b[0m         \u001b[0mstate\u001b[0m \u001b[0;34m=\u001b[0m \u001b[0mnext_state\u001b[0m\u001b[0;34m\u001b[0m\u001b[0;34m\u001b[0m\u001b[0m\n\u001b[1;32m     12\u001b[0m         \u001b[0mtotal_reward\u001b[0m \u001b[0;34m+=\u001b[0m \u001b[0mreward\u001b[0m\u001b[0;34m\u001b[0m\u001b[0;34m\u001b[0m\u001b[0m\n",
            "\u001b[0;32m/tmp/ipython-input-3953088305.py\u001b[0m in \u001b[0;36mupdate\u001b[0;34m(self, state, action, reward, next_state)\u001b[0m\n\u001b[1;32m     19\u001b[0m \u001b[0;34m\u001b[0m\u001b[0m\n\u001b[1;32m     20\u001b[0m     \u001b[0;32mdef\u001b[0m \u001b[0mupdate\u001b[0m\u001b[0;34m(\u001b[0m\u001b[0mself\u001b[0m\u001b[0;34m,\u001b[0m \u001b[0mstate\u001b[0m\u001b[0;34m,\u001b[0m \u001b[0maction\u001b[0m\u001b[0;34m,\u001b[0m \u001b[0mreward\u001b[0m\u001b[0;34m,\u001b[0m \u001b[0mnext_state\u001b[0m\u001b[0;34m)\u001b[0m\u001b[0;34m:\u001b[0m\u001b[0;34m\u001b[0m\u001b[0;34m\u001b[0m\u001b[0m\n\u001b[0;32m---> 21\u001b[0;31m         \u001b[0midx\u001b[0m \u001b[0;34m=\u001b[0m \u001b[0mself\u001b[0m\u001b[0;34m.\u001b[0m\u001b[0mget_state_idx\u001b[0m\u001b[0;34m(\u001b[0m\u001b[0mstate\u001b[0m\u001b[0;34m)\u001b[0m\u001b[0;34m\u001b[0m\u001b[0;34m\u001b[0m\u001b[0m\n\u001b[0m\u001b[1;32m     22\u001b[0m         \u001b[0mnext_idx\u001b[0m \u001b[0;34m=\u001b[0m \u001b[0mself\u001b[0m\u001b[0;34m.\u001b[0m\u001b[0mget_state_idx\u001b[0m\u001b[0;34m(\u001b[0m\u001b[0mnext_state\u001b[0m\u001b[0;34m)\u001b[0m\u001b[0;34m\u001b[0m\u001b[0;34m\u001b[0m\u001b[0m\n\u001b[1;32m     23\u001b[0m         \u001b[0mbest_next\u001b[0m \u001b[0;34m=\u001b[0m \u001b[0mnp\u001b[0m\u001b[0;34m.\u001b[0m\u001b[0mmax\u001b[0m\u001b[0;34m(\u001b[0m\u001b[0mself\u001b[0m\u001b[0;34m.\u001b[0m\u001b[0mq_table\u001b[0m\u001b[0;34m[\u001b[0m\u001b[0mnext_idx\u001b[0m\u001b[0;34m]\u001b[0m\u001b[0;34m)\u001b[0m\u001b[0;34m\u001b[0m\u001b[0;34m\u001b[0m\u001b[0m\n",
            "\u001b[0;32m/tmp/ipython-input-3953088305.py\u001b[0m in \u001b[0;36mget_state_idx\u001b[0;34m(self, state)\u001b[0m\n\u001b[1;32m      9\u001b[0m     \u001b[0;32mdef\u001b[0m \u001b[0mget_state_idx\u001b[0m\u001b[0;34m(\u001b[0m\u001b[0mself\u001b[0m\u001b[0;34m,\u001b[0m \u001b[0mstate\u001b[0m\u001b[0;34m)\u001b[0m\u001b[0;34m:\u001b[0m\u001b[0;34m\u001b[0m\u001b[0;34m\u001b[0m\u001b[0m\n\u001b[1;32m     10\u001b[0m         \u001b[0mrounded\u001b[0m \u001b[0;34m=\u001b[0m \u001b[0mnp\u001b[0m\u001b[0;34m.\u001b[0m\u001b[0mround\u001b[0m\u001b[0;34m(\u001b[0m\u001b[0mstate\u001b[0m \u001b[0;34m*\u001b[0m \u001b[0;36m10\u001b[0m\u001b[0;34m)\u001b[0m\u001b[0;34m.\u001b[0m\u001b[0mastype\u001b[0m\u001b[0;34m(\u001b[0m\u001b[0mint\u001b[0m\u001b[0;34m)\u001b[0m\u001b[0;34m\u001b[0m\u001b[0;34m\u001b[0m\u001b[0m\n\u001b[0;32m---> 11\u001b[0;31m         \u001b[0midx\u001b[0m \u001b[0;34m=\u001b[0m \u001b[0mint\u001b[0m\u001b[0;34m(\u001b[0m\u001b[0;34m''\u001b[0m\u001b[0;34m.\u001b[0m\u001b[0mjoin\u001b[0m\u001b[0;34m(\u001b[0m\u001b[0mmap\u001b[0m\u001b[0;34m(\u001b[0m\u001b[0mstr\u001b[0m\u001b[0;34m,\u001b[0m \u001b[0mrounded\u001b[0m\u001b[0;34m[\u001b[0m\u001b[0;34m-\u001b[0m\u001b[0;36m4\u001b[0m\u001b[0;34m:\u001b[0m\u001b[0;34m]\u001b[0m\u001b[0;34m)\u001b[0m\u001b[0;34m)\u001b[0m\u001b[0;34m)\u001b[0m  \u001b[0;31m#last 4 features for indexing\u001b[0m\u001b[0;34m\u001b[0m\u001b[0;34m\u001b[0m\u001b[0m\n\u001b[0m\u001b[1;32m     12\u001b[0m         \u001b[0;32mreturn\u001b[0m \u001b[0mmin\u001b[0m\u001b[0;34m(\u001b[0m\u001b[0midx\u001b[0m\u001b[0;34m,\u001b[0m \u001b[0mself\u001b[0m\u001b[0;34m.\u001b[0m\u001b[0mq_table\u001b[0m\u001b[0;34m.\u001b[0m\u001b[0mshape\u001b[0m\u001b[0;34m[\u001b[0m\u001b[0;36m0\u001b[0m\u001b[0;34m]\u001b[0m \u001b[0;34m-\u001b[0m \u001b[0;36m1\u001b[0m\u001b[0;34m)\u001b[0m\u001b[0;34m\u001b[0m\u001b[0;34m\u001b[0m\u001b[0m\n\u001b[1;32m     13\u001b[0m \u001b[0;34m\u001b[0m\u001b[0m\n",
            "\u001b[0;31mValueError\u001b[0m: invalid literal for int() with base 10: '0-922337203685477580857'"
          ]
        }
      ]
    },
    {
      "cell_type": "code",
      "source": [
        "rl_preds = [agent.select_action(s) for s in X_scaled]\n",
        "print(\"=== RL Q-Learning Confusion Matrix ===\")\n",
        "print(confusion_matrix(y, rl_preds, labels=[1,0]))\n",
        "print(\"Classification Report:\")\n",
        "print(classification_report(y, rl_preds))"
      ],
      "metadata": {
        "colab": {
          "base_uri": "https://localhost:8080/"
        },
        "id": "4ThoOadCwion",
        "outputId": "bfb3b860-f6c2-4043-ebfd-4ac0af3cadc3"
      },
      "execution_count": 77,
      "outputs": [
        {
          "output_type": "stream",
          "name": "stdout",
          "text": [
            "=== RL Q-Learning Confusion Matrix ===\n",
            "[[ 1730   250]\n",
            " [ 3719 33901]]\n",
            "Classification Report:\n",
            "              precision    recall  f1-score   support\n",
            "\n",
            "           0       0.99      0.90      0.94     37620\n",
            "           1       0.32      0.87      0.47      1980\n",
            "\n",
            "    accuracy                           0.90     39600\n",
            "   macro avg       0.66      0.89      0.71     39600\n",
            "weighted avg       0.96      0.90      0.92     39600\n",
            "\n"
          ]
        },
        {
          "output_type": "stream",
          "name": "stderr",
          "text": [
            "/usr/local/lib/python3.12/dist-packages/jupyter_client/session.py:203: DeprecationWarning: datetime.datetime.utcnow() is deprecated and scheduled for removal in a future version. Use timezone-aware objects to represent datetimes in UTC: datetime.datetime.now(datetime.UTC).\n",
            "  return datetime.utcnow().replace(tzinfo=utc)\n"
          ]
        }
      ]
    },
    {
      "cell_type": "code",
      "source": [],
      "metadata": {
        "id": "AdvujdcwwTKV"
      },
      "execution_count": null,
      "outputs": []
    },
    {
      "cell_type": "code",
      "source": [],
      "metadata": {
        "id": "sT6XXwp6xNSM"
      },
      "execution_count": null,
      "outputs": []
    },
    {
      "cell_type": "code",
      "source": [],
      "metadata": {
        "id": "c2tuL8OPxNuh"
      },
      "execution_count": null,
      "outputs": []
    },
    {
      "cell_type": "code",
      "source": [
        "# 2. FEATURE ENGINEERING - EXTRACT login_hour FROM login_time\n",
        "def extract_hour(time_str):\n",
        "    try:\n",
        "        return int(str(time_str).split(':')[0])\n",
        "    except:\n",
        "        return 0\n",
        "df['login_hour'] = df['login_time'].apply(extract_hour)\n",
        "\n",
        "# 3. SELECT FEATURE LIST\n",
        "features = [\n",
        "    'privilege_level', 'session_minutes', 'device_type', 'location_country', 'remote_ip_type',\n",
        "    'port_used', 'files_accessed', 'bytes_downloaded', 'direction',\n",
        "    'app_used', 'file_sensitivity', 'sensitive_command', 'failed_logins', 'mfa_used',\n",
        "    'risk_score', 'anomaly_score', 'time_risk', 'file_risk', 'geo_risk', 'app_risk',\n",
        "    'auth_risk', 'login_hour'\n",
        "]"
      ],
      "metadata": {
        "id": "9pb-L5bcqr3N"
      },
      "execution_count": 32,
      "outputs": []
    },
    {
      "cell_type": "code",
      "source": [
        "# 4. ENCODE CATEGORICAL FEATURES\n",
        "categorical = [\n",
        "    'privilege_level', 'device_type', 'location_country',\n",
        "    'remote_ip_type', 'direction', 'app_used',\n",
        "    'file_sensitivity', 'mfa_used'\n",
        "]\n",
        "for col in categorical:\n",
        "    df[col] = LabelEncoder().fit_transform(df[col].astype(str))"
      ],
      "metadata": {
        "id": "QQbakDozuQ3e"
      },
      "execution_count": 33,
      "outputs": []
    },
    {
      "cell_type": "code",
      "source": [
        "# 5. SCALE FEATURES\n",
        "X = df[features].values\n",
        "scaler = MinMaxScaler()\n",
        "X_scaled = scaler.fit_transform(X)\n",
        "\n",
        "# 6. SET LABELS\n",
        "y = df['is_anomaly'].astype(int).values"
      ],
      "metadata": {
        "id": "apYCl0pFt6C0"
      },
      "execution_count": 34,
      "outputs": []
    },
    {
      "cell_type": "code",
      "source": [
        "from xgboost import XGBClassifier\n",
        "# 6. TRAIN/TEST SPLIT (Always stratify!)\n",
        "X_train, X_test, y_train, y_test = train_test_split(\n",
        "    X_scaled, y, test_size=0.3, random_state=42, stratify=y\n",
        ")\n",
        "\n",
        "# 7. XGBoost Model\n",
        "# Calculate scale_pos_weight for class imbalance\n",
        "scale_pos_weight = np.sum(y_train == 0) / np.sum(y_train == 1)\n",
        "\n",
        "xgb = XGBClassifier(\n",
        "    n_estimators=100,\n",
        "    max_depth=6,\n",
        "    learning_rate=0.1,\n",
        "    subsample=0.8,\n",
        "    colsample_bytree=0.8,\n",
        "    scale_pos_weight=scale_pos_weight,\n",
        "    use_label_encoder=False,\n",
        "    eval_metric='logloss',\n",
        "    random_state=42\n",
        ")\n",
        "xgb.fit(X_train, y_train)\n",
        "\n",
        "# 8. EVALUATION\n",
        "xgb_preds = xgb.predict(X_test)\n",
        "\n",
        "print('=== XGBoost Baseline (Test Set) ===')\n",
        "print(\"Confusion Matrix:\\n\", confusion_matrix(y_test, xgb_preds, labels=[1, 0]))\n",
        "print(\"Classification Report:\\n\", classification_report(y_test, xgb_preds))\n",
        "\n",
        "# 9. (Optional) FEATURE IMPORTANCE\n",
        "import matplotlib.pyplot as plt\n",
        "importances = xgb.feature_importances_\n",
        "indices = np.argsort(importances)[::-1]\n",
        "feature_names = np.array(features)\n",
        "plt.figure(figsize=(11, 5))\n",
        "plt.title('XGBoost Feature Importances')\n",
        "plt.bar(range(len(importances)), importances[indices], tick_label=feature_names[indices])\n",
        "plt.xticks(rotation=90)\n",
        "plt.tight_layout()\n",
        "plt.show()"
      ],
      "metadata": {
        "colab": {
          "base_uri": "https://localhost:8080/",
          "height": 819
        },
        "id": "mRjLXNS-t-PO",
        "outputId": "57309fe6-89af-4390-9d63-a3bac880231c"
      },
      "execution_count": 37,
      "outputs": [
        {
          "output_type": "stream",
          "name": "stderr",
          "text": [
            "/usr/local/lib/python3.12/dist-packages/xgboost/training.py:183: UserWarning: [02:54:30] WARNING: /workspace/src/learner.cc:738: \n",
            "Parameters: { \"use_label_encoder\" } are not used.\n",
            "\n",
            "  bst.update(dtrain, iteration=i, fobj=obj)\n"
          ]
        },
        {
          "output_type": "stream",
          "name": "stdout",
          "text": [
            "=== XGBoost Baseline (Test Set) ===\n",
            "Confusion Matrix:\n",
            " [[ 100  494]\n",
            " [1982 9304]]\n",
            "Classification Report:\n",
            "               precision    recall  f1-score   support\n",
            "\n",
            "           0       0.95      0.82      0.88     11286\n",
            "           1       0.05      0.17      0.07       594\n",
            "\n",
            "    accuracy                           0.79     11880\n",
            "   macro avg       0.50      0.50      0.48     11880\n",
            "weighted avg       0.90      0.79      0.84     11880\n",
            "\n"
          ]
        },
        {
          "output_type": "display_data",
          "data": {
            "text/plain": [
              "<Figure size 1100x500 with 1 Axes>"
            ],
            "image/png": "[encoded data removed]"
          },
          "metadata": {}
        }
      ]
    },
    {
      "cell_type": "code",
      "source": [
        "# 1. ENCODE CATEGORICAL FEATURES\n",
        "from sklearn.preprocessing import LabelEncoder, MinMaxScaler\n",
        "\n",
        "categorical = [\n",
        "    'privilege_level', 'device_type', 'location_country', 'remote_ip_type',\n",
        "    'direction', 'app_used', 'file_sensitivity', 'mfa_used'\n",
        "]\n",
        "for col in categorical:\n",
        "    if df[col].dtype == 'object':\n",
        "        df[col] = LabelEncoder().fit_transform(df[col].astype(str))\n",
        "\n",
        "# 2. SCALE FEATURES\n",
        "X = df[features].values\n",
        "scaler = MinMaxScaler()\n",
        "X_scaled = scaler.fit_transform(X)\n",
        "y = df['is_anomaly'].astype(int).values\n"
      ],
      "metadata": {
        "id": "KclIRsXdrEZ9"
      },
      "execution_count": 13,
      "outputs": []
    },
    {
      "cell_type": "code",
      "source": [
        "# 5. ENCODE CATEGORICAL FEATURES\n",
        "categorical = [\n",
        "    'privilege_level', 'department', 'device_type', 'location_country', 'remote_ip_type',\n",
        "    'direction', 'app_used', 'file_sensitivity', 'mfa_used'\n",
        "]\n",
        "for col in categorical:\n",
        "    if df[col].dtype == 'object':\n",
        "        df[col] = LabelEncoder().fit_transform(df[col].astype(str))\n",
        "\n",
        "# 6. SCALE FEATURES TO [0,1]\n",
        "X = df[features].values\n",
        "scaler = MinMaxScaler()\n",
        "X_scaled = scaler.fit_transform(X)\n",
        "\n",
        "from sklearn.model_selection import train_test_split\n",
        "\n",
        "X_train, X_test, y_train, y_test = train_test_split(\n",
        "    X_scaled, y, test_size=0.3, stratify=y, random_state=42\n",
        ")\n",
        "rf = RandomForestClassifier(class_weight='balanced', random_state=42)\n",
        "rf.fit(X_train, y_train)\n",
        "rf_preds = rf.predict(X_test)\n",
        "print(confusion_matrix(y_test, rf_preds))\n",
        "print(classification_report(y_test, rf_preds))\n"
      ],
      "metadata": {
        "colab": {
          "base_uri": "https://localhost:8080/"
        },
        "id": "277CZMzYpLuv",
        "outputId": "5d8bea98-7ebf-4bda-8a94-5d2bb3022dbb"
      },
      "execution_count": 15,
      "outputs": [
        {
          "output_type": "stream",
          "name": "stdout",
          "text": [
            "[[11286     0]\n",
            " [  594     0]]\n",
            "              precision    recall  f1-score   support\n",
            "\n",
            "           0       0.95      1.00      0.97     11286\n",
            "           1       0.00      0.00      0.00       594\n",
            "\n",
            "    accuracy                           0.95     11880\n",
            "   macro avg       0.47      0.50      0.49     11880\n",
            "weighted avg       0.90      0.95      0.93     11880\n",
            "\n"
          ]
        },
        {
          "output_type": "stream",
          "name": "stderr",
          "text": [
            "/usr/local/lib/python3.12/dist-packages/sklearn/metrics/_classification.py:1565: UndefinedMetricWarning: Precision is ill-defined and being set to 0.0 in labels with no predicted samples. Use `zero_division` parameter to control this behavior.\n",
            "  _warn_prf(average, modifier, f\"{metric.capitalize()} is\", len(result))\n",
            "/usr/local/lib/python3.12/dist-packages/sklearn/metrics/_classification.py:1565: UndefinedMetricWarning: Precision is ill-defined and being set to 0.0 in labels with no predicted samples. Use `zero_division` parameter to control this behavior.\n",
            "  _warn_prf(average, modifier, f\"{metric.capitalize()} is\", len(result))\n",
            "/usr/local/lib/python3.12/dist-packages/sklearn/metrics/_classification.py:1565: UndefinedMetricWarning: Precision is ill-defined and being set to 0.0 in labels with no predicted samples. Use `zero_division` parameter to control this behavior.\n",
            "  _warn_prf(average, modifier, f\"{metric.capitalize()} is\", len(result))\n"
          ]
        }
      ]
    }
  ]
}